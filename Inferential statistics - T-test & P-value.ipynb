{
 "cells": [
  {
   "cell_type": "markdown",
   "id": "d675185a",
   "metadata": {},
   "source": [
    "# Lab | Inferential statistics - T-test & P-value"
   ]
  },
  {
   "cell_type": "markdown",
   "id": "54fe6142",
   "metadata": {},
   "source": [
    "## Instructions"
   ]
  },
  {
   "cell_type": "markdown",
   "id": "861a2b8f",
   "metadata": {},
   "source": [
    "- We will have another simple example on two sample t test (pooled- when the variances are equal). But this time this is a one sided t-test\n",
    "\n",
    "In a packing plant, a machine packs cartons with jars. It is supposed that a new machine will pack faster on the average than the machine currently used. To test that hypothesis, the times it takes each machine to pack ten cartons are recorded. The results, in seconds, are shown in the tables in the file files_for_lab/machine.txt. Assume that there is sufficient evidence to conduct the t test, does the data provide sufficient evidence to show if one machine is better than the other"
   ]
  },
  {
   "cell_type": "markdown",
   "id": "f7ddbb28",
   "metadata": {},
   "source": [
    "- Importing libraries"
   ]
  },
  {
   "cell_type": "code",
   "execution_count": 1,
   "id": "e8b698a8",
   "metadata": {},
   "outputs": [],
   "source": [
    "import math\n",
    "import numpy as np\n",
    "import pandas as pd\n",
    "from scipy import stats"
   ]
  },
  {
   "cell_type": "markdown",
   "id": "7c00e18e",
   "metadata": {},
   "source": [
    "- Loading the data"
   ]
  },
  {
   "cell_type": "code",
   "execution_count": 9,
   "id": "e046ab95",
   "metadata": {},
   "outputs": [
    {
     "name": "stdout",
     "output_type": "stream",
     "text": [
      "   New machine      Old machine\n",
      "0         42.1             42.7\n",
      "1         41.0             43.6\n",
      "2         41.3             43.8\n",
      "3         41.8             43.3\n",
      "4         42.4             42.5\n",
      "5         42.8             43.5\n",
      "6         43.2             43.1\n",
      "7         42.3             41.7\n",
      "8         41.8             44.0\n",
      "9         42.7             44.1\n"
     ]
    }
   ],
   "source": [
    "path = r\"C:\\Users\\Gladys\\Desktop\\DATA\\WEEKS\\Last\\machine.txt\"\n",
    "df = pd.read_csv(path, delimiter=\"\\t\", encoding=\"utf-16\")\n",
    "print(df)"
   ]
  },
  {
   "cell_type": "code",
   "execution_count": 15,
   "id": "9c04d37e",
   "metadata": {},
   "outputs": [],
   "source": [
    "#removing spaces because I had errors next\n",
    "df.columns = df.columns.str.replace(' ', '')"
   ]
  },
  {
   "cell_type": "code",
   "execution_count": 17,
   "id": "574c9fed",
   "metadata": {},
   "outputs": [
    {
     "name": "stdout",
     "output_type": "stream",
     "text": [
      "   Newmachine  Oldmachine\n",
      "0        42.1        42.7\n",
      "1        41.0        43.6\n",
      "2        41.3        43.8\n",
      "3        41.8        43.3\n",
      "4        42.4        42.5\n",
      "5        42.8        43.5\n",
      "6        43.2        43.1\n",
      "7        42.3        41.7\n",
      "8        41.8        44.0\n",
      "9        42.7        44.1\n"
     ]
    }
   ],
   "source": [
    "print(df)"
   ]
  },
  {
   "cell_type": "markdown",
   "id": "fb723ee7",
   "metadata": {},
   "source": [
    "- Descriptive statistics"
   ]
  },
  {
   "cell_type": "code",
   "execution_count": 18,
   "id": "ad70b6ce",
   "metadata": {},
   "outputs": [],
   "source": [
    "n1 = df['Newmachine'].count()\n",
    "x1 = df['Newmachine'].mean()\n",
    "sp1 = df['Newmachine'].std()\n",
    "\n",
    "n2 = df['Oldmachine'].count()\n",
    "x2 = df['Oldmachine'].mean()\n",
    "sp2 = df['Oldmachine'].std()"
   ]
  },
  {
   "cell_type": "markdown",
   "id": "5bc8968a",
   "metadata": {},
   "source": [
    "- Checking degrees of freedom with the sample sizes"
   ]
  },
  {
   "cell_type": "code",
   "execution_count": 19,
   "id": "443700b5",
   "metadata": {},
   "outputs": [],
   "source": [
    "dof1 = n1 - 1\n",
    "dof2 = n2 - 1\n",
    "dof12 = dof1 + dof2"
   ]
  },
  {
   "cell_type": "markdown",
   "id": "a36f1f1e",
   "metadata": {},
   "source": [
    "- We then check the t-test "
   ]
  },
  {
   "cell_type": "code",
   "execution_count": 20,
   "id": "ec893257",
   "metadata": {},
   "outputs": [],
   "source": [
    "sp = np.sqrt(((dof1 * sp1 * sp1) + (dof2 * sp2 * sp2)) / dof12)\n",
    "ttest = (x1 - x2) / (sp * np.sqrt(1 / n1 + 1 / n2))\n",
    "ttest_rounded = ttest.round(2)"
   ]
  },
  {
   "cell_type": "code",
   "execution_count": 22,
   "id": "b990aa92",
   "metadata": {},
   "outputs": [],
   "source": [
    "t_statistic, p_value = stats.ttest_ind(df.Newmachine, df.Oldmachine)\n",
    "t_statistic_rounded = t_statistic.round(2)\n",
    "p_value_rounded = p_value.round(4)"
   ]
  },
  {
   "cell_type": "markdown",
   "id": "92f90324",
   "metadata": {},
   "source": [
    "- We can now verify"
   ]
  },
  {
   "cell_type": "code",
   "execution_count": 25,
   "id": "92c64fb2",
   "metadata": {},
   "outputs": [
    {
     "name": "stdout",
     "output_type": "stream",
     "text": [
      "New machine is slower\n"
     ]
    }
   ],
   "source": [
    "if ttest_rounded == t_statistic_rounded:\n",
    "    print(\"New machine is slower\")\n",
    "else:\n",
    "    print(\"New machine is faster\")"
   ]
  },
  {
   "cell_type": "code",
   "execution_count": null,
   "id": "b8ab4539",
   "metadata": {},
   "outputs": [],
   "source": []
  }
 ],
 "metadata": {
  "kernelspec": {
   "display_name": "Python 3 (ipykernel)",
   "language": "python",
   "name": "python3"
  },
  "language_info": {
   "codemirror_mode": {
    "name": "ipython",
    "version": 3
   },
   "file_extension": ".py",
   "mimetype": "text/x-python",
   "name": "python",
   "nbconvert_exporter": "python",
   "pygments_lexer": "ipython3",
   "version": "3.10.9"
  }
 },
 "nbformat": 4,
 "nbformat_minor": 5
}
